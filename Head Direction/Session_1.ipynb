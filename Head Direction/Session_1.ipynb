{
 "cells": [
  {
   "cell_type": "markdown",
   "metadata": {},
   "source": [
    "# Recreate Figure 6A \n",
    "\n",
    "Steps identified\n",
    "\n",
    "1. Define biological parameters\n",
    "2. Initialize weight matrices for connections from HD to CONJ/ENV cells\n",
    "   1. CONJ cells: random/uniform distribution\n",
    "   2. ENV cells: zero as it received no input from HD\n",
    "3. Simulation: for each time step do\n",
    "   1. calculate firing rate of CONJ cell\n",
    "   2. calculate firing rate of hd cell at previous time step\n",
    "   3. update HD cell as it receives input from both CONJ and ENV cells\n",
    "   4. update weights of CONJ cell\n",
    "   5. normalize weights"
   ]
  },
  {
   "cell_type": "code",
   "execution_count": null,
   "metadata": {},
   "outputs": [],
   "source": [
    "import numpy as np"
   ]
  },
  {
   "cell_type": "code",
   "execution_count": null,
   "metadata": {},
   "outputs": [],
   "source": [
    "def fr_adn(f_hd, f_adn_prev, e_pi_adn, si_adn):\n",
    "    ...\n",
    "\n",
    "def fr_hd(f_adn, f_conj, f_env, si_hd):\n",
    "    ...\n",
    "\n",
    "def fr_conj(f_hd, f_vis, si_conj):\n",
    "    ...\n",
    "\n",
    "def fr_env(f_vis, si_env):\n",
    "    ..."
   ]
  },
  {
   "cell_type": "code",
   "execution_count": null,
   "metadata": {},
   "outputs": [],
   "source": [
    "times = np.linspace(0, 600, 1000)\n",
    "\n",
    "\n",
    "for time in times:\n",
    "\n",
    "    # change in ADN (feedback from HD, ADN, path integration, self inhibition)\n",
    "    f_adn = fr_adn(f_hd, f_adn_prev, e_pi_adn, si_adn)\n",
    "\n",
    "    # change in HD (input from ADN, feedback from CONJ and ENV, self inhibition)\n",
    "    f_hd = fr_hd(f_adn, f_conj, f_env, si_hd)\n",
    "\n",
    "    # change in CONJ (input from HD and VIS, self inhibition)\n",
    "    f_conj = fr_conj(f_hd, f_vis, si_conj)\n",
    "\n",
    "    # change in ENV (input from VIS, self inhibition)    \n",
    "    f_env = fr_env(f_vis, si_env)"
   ]
  }
 ],
 "metadata": {
  "kernelspec": {
   "display_name": "hd",
   "language": "python",
   "name": "python3"
  },
  "language_info": {
   "codemirror_mode": {
    "name": "ipython",
    "version": 3
   },
   "file_extension": ".py",
   "mimetype": "text/x-python",
   "name": "python",
   "nbconvert_exporter": "python",
   "pygments_lexer": "ipython3",
   "version": "3.12.9"
  }
 },
 "nbformat": 4,
 "nbformat_minor": 2
}
