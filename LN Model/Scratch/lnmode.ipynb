{
 "cells": [
  {
   "cell_type": "markdown",
   "metadata": {},
   "source": [
    "# Load data"
   ]
  },
  {
   "cell_type": "code",
   "execution_count": 6,
   "metadata": {},
   "outputs": [],
   "source": [
    "import scipy.io\n",
    "import matplotlib.pyplot as plt"
   ]
  },
  {
   "cell_type": "code",
   "execution_count": 7,
   "metadata": {},
   "outputs": [],
   "source": [
    "\n",
    "data = scipy.io.loadmat('data_for_cell77.mat')"
   ]
  },
  {
   "cell_type": "code",
   "execution_count": 25,
   "metadata": {},
   "outputs": [],
   "source": [
    "box_size = data['boxSize'].flatten()\n",
    "post = data['post'].flatten()\n",
    "spiketrain = data['spiketrain'].flatten()\n",
    "posx = data['posx'].flatten()\n",
    "posx2 = data['posx2'].flatten()\n",
    "posx_c = data['posx_c'].flatten()\n",
    "posy = data['posy'].flatten()\n",
    "posy2 = data['posy2'].flatten()\n",
    "posy_c = data['posy_c'].flatten()\n",
    "filt_eeg = data['filt_eeg'].flatten()\n",
    "eeg_sample_rate = data['eeg_sample_rate'].flatten()\n",
    "samplerate = data['sampleRate'].flatten()"
   ]
  },
  {
   "cell_type": "markdown",
   "metadata": {},
   "source": [
    "# Model Fitting"
   ]
  },
  {
   "cell_type": "code",
   "execution_count": 30,
   "metadata": {},
   "outputs": [],
   "source": [
    "import numpy as np\n",
    "from scipy.signal import hilbert\n",
    "from scipy.optimize import minimize\n",
    "from sklearn.model_selection import KFold"
   ]
  },
  {
   "cell_type": "code",
   "execution_count": 32,
   "metadata": {},
   "outputs": [],
   "source": [
    "def pos_map(pos, nbins, box_size):\n",
    "    bins = np.linspace(box_size / (2 * nbins), box_size - box_size / (2 * nbins), nbins)\n",
    "\n",
    "    pos_grid = np.zeros((len(pos), nbins**2))\n",
    "\n",
    "    for idx, (x, y) in enumerate(pos):\n",
    "        xcoor = np.argmin(np.abs(x - bins))\n",
    "        ycoor = np.argmin(np.abs(y - bins))\n",
    "        bin_idx = np.ravel_multi_index((nbins - ycoor - 1, xcoor), (nbins, nbins))\n",
    "        pos_grid[idx, bin_idx] = 1\n",
    "\n",
    "    return pos_grid, bins\n",
    "\n",
    "def speed_map(posx, posy, nbins, sample_rate=50, max_speed=50):\n",
    "    velx = np.diff(np.insert(posx, 0, posx[0]))  \n",
    "    vely = np.diff(np.insert(posy, 0, posy[0]))\n",
    "    speed = np.sqrt(velx**2 + vely**2) * sample_rate\n",
    "    speed = np.clip(speed, None, max_speed)  \n",
    "\n",
    "    speed_vec = np.linspace(max_speed / (2 * nbins), max_speed - max_speed / (2 * nbins), nbins)\n",
    "    speed_grid = np.zeros((len(posx), len(speed_vec)))\n",
    "\n",
    "    for i, s in enumerate(speed):\n",
    "        idx = np.argmin(np.abs(s - speed_vec))\n",
    "        speed_grid[i, idx] = 1\n",
    "\n",
    "    return speed_grid, speed_vec, speed\n",
    "\n",
    "\n",
    "def theta_map(filt_eeg, time_vec, sample_rate, nbins):\n",
    "    hilb_eeg = hilbert(filt_eeg)\n",
    "    phase = np.angle(hilb_eeg)  \n",
    "    phase[phase < 0] += 2 * np.pi  \n",
    "\n",
    "    phase_ind = np.round(time_vec * sample_rate).astype(int)\n",
    "    phase_ind = phase_ind[phase_ind < len(filt_eeg)]  \n",
    "    phase_time = phase[phase_ind]\n",
    "\n",
    "    phase_vec = np.linspace(2 * np.pi / (2 * nbins), 2 * np.pi - 2 * np.pi / (2 * nbins), nbins)\n",
    "    theta_grid = np.zeros((len(time_vec), nbins))\n",
    "\n",
    "    for i, p in enumerate(phase_time):\n",
    "        idx = np.argmin(np.abs(p - phase_vec))\n",
    "        theta_grid[i, idx] = 1\n",
    "\n",
    "    return theta_grid, phase_vec, phase_time\n",
    "\n",
    "import numpy as np\n",
    "\n",
    "def hd_map(posx, posx2, posy, posy2, nbins):\n",
    "    direction = np.arctan2(posy2 - posy, posx2 - posx) + np.pi / 2\n",
    "    direction[direction < 0] += 2 * np.pi  \n",
    "\n",
    "    dirVec = np.linspace(2 * np.pi / (2 * nbins), 2 * np.pi - 2 * np.pi / (2 * nbins), nbins)\n",
    "\n",
    "    hd_grid = np.zeros((len(posx), nbins))\n",
    "\n",
    "    for i, d in enumerate(direction):\n",
    "        idx = np.argmin(np.abs(d - dirVec))  \n",
    "        hd_grid[i, idx] = 1  \n",
    "\n",
    "    return hd_grid, dirVec, direction\n"
   ]
  },
  {
   "cell_type": "code",
   "execution_count": 26,
   "metadata": {},
   "outputs": [],
   "source": [
    "n_pos_bins = 20\n",
    "n_dir_bins = 18\n",
    "n_speed_bins = 10\n",
    "n_theta_bins = 18"
   ]
  },
  {
   "cell_type": "code",
   "execution_count": 31,
   "metadata": {},
   "outputs": [],
   "source": [
    "from scipy.optimize import minimize\n",
    "from sklearn.model_selection import KFold\n",
    "\n",
    "def ln_model(theta, W):\n",
    "    return np.exp(W @ theta)\n",
    "\n",
    "def neg_log_likelihood(theta, W, spiketrain):\n",
    "    r = ln_model(theta, W)\n",
    "    return -np.sum(spiketrain * np.log(r) - r)  \n",
    "\n",
    "def fit_model(W, spiketrain, num_folds=10):\n",
    "    kf = KFold(n_splits=num_folds, shuffle=True, random_state=42)\n",
    "    test_fit, train_fit = [], []\n",
    "    \n",
    "    for train_idx, test_idx in kf.split(W):\n",
    "        W_train, W_test = W[train_idx], W[test_idx]\n",
    "        spikes_train, spikes_test = spiketrain[train_idx], spiketrain[test_idx]\n",
    "\n",
    "        theta_init = np.zeros(W.shape[1])\n",
    "        res = minimize(neg_log_likelihood, theta_init, args=(W_train, spikes_train), method='BFGS')\n",
    "        theta_opt = res.x\n",
    "\n",
    "        train_fit.append(-neg_log_likelihood(theta_opt, W_train, spikes_train))\n",
    "        test_fit.append(-neg_log_likelihood(theta_opt, W_test, spikes_test))\n",
    "\n",
    "    return test_fit, train_fit, theta_opt\n"
   ]
  },
  {
   "cell_type": "code",
   "execution_count": 33,
   "metadata": {},
   "outputs": [],
   "source": [
    "pos_grid, pos_bins = pos_map(np.column_stack((posx_c, posy_c)), n_pos_bins, box_size)\n",
    "hd_grid, hd_bins, direction = hd_map(posx, posx2, posy, posy2, n_dir_bins)\n",
    "speed_grid, speed_bins, speed = speed_map(posx_c, posy_c, n_speed_bins)\n",
    "theta_grid, theta_bins, phase_time = theta_map(filt_eeg, post, eeg_sample_rate, n_theta_bins)"
   ]
  },
  {
   "cell_type": "code",
   "execution_count": 35,
   "metadata": {},
   "outputs": [],
   "source": [
    "models = {\n",
    "    \"all\": np.hstack([pos_grid, hd_grid, speed_grid, theta_grid]),\n",
    "    \"pos_hd_speed\": np.hstack([pos_grid, hd_grid, speed_grid]),\n",
    "    \"pos_hd_theta\": np.hstack([pos_grid, hd_grid, theta_grid]),\n",
    "    \"pos_speed_theta\": np.hstack([pos_grid, speed_grid, theta_grid]),\n",
    "    \"hd_speed_theta\": np.hstack([hd_grid, speed_grid, theta_grid]),\n",
    "}\n",
    "\n",
    "num_folds = 10\n",
    "results = {}\n",
    "# for name, features in models.items():\n",
    "#     print(f\"Fitting model: {name}\")\n",
    "#     results[name] = fit_model(features, spiketrain, num_folds)\n"
   ]
  },
  {
   "cell_type": "code",
   "execution_count": null,
   "metadata": {},
   "outputs": [],
   "source": [
    "results['all'] = fit_model(models['all'], spiketrain, num_folds)"
   ]
  },
  {
   "cell_type": "markdown",
   "metadata": {},
   "source": [
    "# Forward-Search Procedure To Find Best Model"
   ]
  },
  {
   "cell_type": "markdown",
   "metadata": {},
   "source": [
    "# Tuning Curve Computation"
   ]
  },
  {
   "cell_type": "markdown",
   "metadata": {},
   "source": [
    "# Plots"
   ]
  }
 ],
 "metadata": {
  "kernelspec": {
   "display_name": "lnmodel",
   "language": "python",
   "name": "python3"
  },
  "language_info": {
   "codemirror_mode": {
    "name": "ipython",
    "version": 3
   },
   "file_extension": ".py",
   "mimetype": "text/x-python",
   "name": "python",
   "nbconvert_exporter": "python",
   "pygments_lexer": "ipython3",
   "version": "3.12.8"
  }
 },
 "nbformat": 4,
 "nbformat_minor": 2
}
