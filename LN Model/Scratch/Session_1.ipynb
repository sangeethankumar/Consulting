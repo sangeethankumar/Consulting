{
 "cells": [
  {
   "cell_type": "code",
   "execution_count": 1,
   "metadata": {},
   "outputs": [],
   "source": [
    "import numpy as np"
   ]
  },
  {
   "cell_type": "code",
   "execution_count": 19,
   "metadata": {},
   "outputs": [],
   "source": [
    "pos = np.array([[0,0], [0, 1], [1, 0], [1, 1]])\n",
    "pos_x = pos[:, 0, None]\n",
    "pos_y = pos[:, 1, None]"
   ]
  },
  {
   "cell_type": "code",
   "execution_count": 3,
   "metadata": {},
   "outputs": [],
   "source": [
    "# Constants\n",
    "\n",
    "boxSize = 1 # cm\n",
    "nbins = 3"
   ]
  },
  {
   "cell_type": "code",
   "execution_count": 6,
   "metadata": {},
   "outputs": [
    {
     "data": {
      "text/plain": [
       "array([0.16666667, 0.5       , 0.83333333])"
      ]
     },
     "execution_count": 6,
     "metadata": {},
     "output_type": "execute_result"
    }
   ],
   "source": [
    "s_pos = boxSize / nbins / 2.\n",
    "e_pos = boxSize - boxSize / nbins / 2\n",
    "bins = np.linspace(s_pos, e_pos, nbins)\n",
    "bins"
   ]
  },
  {
   "cell_type": "code",
   "execution_count": 7,
   "metadata": {},
   "outputs": [
    {
     "data": {
      "text/plain": [
       "array([[0, 0],\n",
       "       [0, 1],\n",
       "       [1, 0],\n",
       "       [1, 1]])"
      ]
     },
     "execution_count": 7,
     "metadata": {},
     "output_type": "execute_result"
    }
   ],
   "source": [
    "pos"
   ]
  },
  {
   "cell_type": "code",
   "execution_count": 31,
   "metadata": {},
   "outputs": [
    {
     "data": {
      "text/plain": [
       "(array([0, 0, 2, 2]), array([0, 2, 0, 2]))"
      ]
     },
     "execution_count": 31,
     "metadata": {},
     "output_type": "execute_result"
    }
   ],
   "source": [
    "x_idx = np.argmin(np.abs(pos_x - bins), axis=1)\n",
    "y_idx = np.argmin(np.abs(pos_y - bins), axis=1)\n",
    "x_idx, y_idx"
   ]
  },
  {
   "cell_type": "code",
   "execution_count": 38,
   "metadata": {},
   "outputs": [],
   "source": [
    "bin_idx = np.ravel_multi_index((y_idx, x_idx), (nbins, nbins))"
   ]
  },
  {
   "cell_type": "code",
   "execution_count": 40,
   "metadata": {},
   "outputs": [
    {
     "data": {
      "text/plain": [
       "array([0, 6, 2, 8])"
      ]
     },
     "execution_count": 40,
     "metadata": {},
     "output_type": "execute_result"
    }
   ],
   "source": [
    "bin_idx"
   ]
  },
  {
   "cell_type": "code",
   "execution_count": 52,
   "metadata": {},
   "outputs": [],
   "source": [
    "posgrid = np.eye(nbins**2)[bin_idx]\n"
   ]
  },
  {
   "cell_type": "code",
   "execution_count": 47,
   "metadata": {},
   "outputs": [],
   "source": [
    "import seaborn as sns"
   ]
  },
  {
   "cell_type": "code",
   "execution_count": 51,
   "metadata": {},
   "outputs": [
    {
     "data": {
      "text/plain": [
       "array([[0, 0],\n",
       "       [0, 1],\n",
       "       [1, 0],\n",
       "       [1, 1]])"
      ]
     },
     "execution_count": 51,
     "metadata": {},
     "output_type": "execute_result"
    }
   ],
   "source": [
    "pos"
   ]
  },
  {
   "cell_type": "code",
   "execution_count": 55,
   "metadata": {},
   "outputs": [
    {
     "data": {
      "text/plain": [
       "array([[1., 0., 0., 0., 0., 0., 0., 0., 0.],\n",
       "       [0., 0., 0., 0., 0., 0., 1., 0., 0.],\n",
       "       [0., 0., 1., 0., 0., 0., 0., 0., 0.],\n",
       "       [0., 0., 0., 0., 0., 0., 0., 0., 1.]])"
      ]
     },
     "execution_count": 55,
     "metadata": {},
     "output_type": "execute_result"
    }
   ],
   "source": [
    "posgrid"
   ]
  },
  {
   "cell_type": "markdown",
   "metadata": {},
   "source": [
    "## Testing "
   ]
  },
  {
   "cell_type": "code",
   "execution_count": 1,
   "metadata": {},
   "outputs": [],
   "source": [
    "import scipy.io\n",
    "import numpy as np"
   ]
  },
  {
   "cell_type": "code",
   "execution_count": 2,
   "metadata": {},
   "outputs": [],
   "source": [
    "data = scipy.io.loadmat('data_for_cell77.mat')"
   ]
  },
  {
   "cell_type": "code",
   "execution_count": 3,
   "metadata": {},
   "outputs": [],
   "source": [
    "pos_x = data['posx_c'].flatten()\n",
    "pos_y = data['posy_c'].flatten()\n"
   ]
  },
  {
   "cell_type": "code",
   "execution_count": 4,
   "metadata": {},
   "outputs": [],
   "source": [
    "boxSize = 100 # cm\n",
    "nbins = 20"
   ]
  },
  {
   "cell_type": "code",
   "execution_count": 5,
   "metadata": {},
   "outputs": [],
   "source": [
    "bins = np.linspace(boxSize / nbins / 2, boxSize - boxSize / nbins / 2, nbins)"
   ]
  },
  {
   "cell_type": "code",
   "execution_count": 6,
   "metadata": {},
   "outputs": [],
   "source": [
    "x_indices = np.abs(pos_x[:, None] - bins).argmin(axis=1)\n",
    "y_indices = np.abs(pos_y[:, None] - bins).argmin(axis=1)"
   ]
  },
  {
   "cell_type": "code",
   "execution_count": 11,
   "metadata": {},
   "outputs": [],
   "source": [
    "bin_indices = (nbins - 1 - y_indices) * nbins + x_indices"
   ]
  },
  {
   "cell_type": "code",
   "execution_count": 16,
   "metadata": {},
   "outputs": [],
   "source": [
    "pos = np.column_stack((pos_x, pos_y))\n",
    "posgrid = np.zeros((len(pos), nbins * nbins), dtype=int)\n",
    "posgrid[np.arange(len(pos)), bin_indices] = 1"
   ]
  },
  {
   "cell_type": "code",
   "execution_count": 17,
   "metadata": {},
   "outputs": [
    {
     "data": {
      "text/plain": [
       "array([[0, 0, 0, ..., 0, 0, 0],\n",
       "       [0, 0, 0, ..., 0, 0, 0],\n",
       "       [0, 0, 0, ..., 0, 0, 0],\n",
       "       ...,\n",
       "       [0, 0, 0, ..., 0, 0, 0],\n",
       "       [0, 0, 0, ..., 0, 0, 0],\n",
       "       [0, 0, 0, ..., 0, 0, 0]], shape=(145150, 400))"
      ]
     },
     "execution_count": 17,
     "metadata": {},
     "output_type": "execute_result"
    }
   ],
   "source": [
    "posgrid"
   ]
  },
  {
   "cell_type": "code",
   "execution_count": 18,
   "metadata": {},
   "outputs": [],
   "source": [
    "data_compare = scipy.io.loadmat('pos.mat')\n",
    "posgrid_compare = data_compare['posgrid']"
   ]
  },
  {
   "cell_type": "code",
   "execution_count": 19,
   "metadata": {},
   "outputs": [
    {
     "name": "stdout",
     "output_type": "stream",
     "text": [
      "Non zero elements present\n"
     ]
    }
   ],
   "source": [
    "if np.any(posgrid - posgrid_compare):\n",
    "    print(\"Non zero elements present\")"
   ]
  },
  {
   "cell_type": "code",
   "execution_count": 17,
   "metadata": {},
   "outputs": [
    {
     "data": {
      "text/plain": [
       "array([[0, 0, 0, ..., 0, 0, 0],\n",
       "       [0, 0, 0, ..., 0, 0, 0],\n",
       "       [0, 0, 0, ..., 0, 0, 0],\n",
       "       ...,\n",
       "       [0, 0, 0, ..., 0, 0, 0],\n",
       "       [0, 0, 0, ..., 0, 0, 0],\n",
       "       [0, 0, 0, ..., 0, 0, 0]], shape=(145150, 400))"
      ]
     },
     "execution_count": 17,
     "metadata": {},
     "output_type": "execute_result"
    }
   ],
   "source": [
    "posgrid"
   ]
  },
  {
   "cell_type": "code",
   "execution_count": 16,
   "metadata": {},
   "outputs": [
    {
     "data": {
      "text/plain": [
       "array([[0, 0, 0, ..., 0, 0, 0],\n",
       "       [0, 0, 0, ..., 0, 0, 0],\n",
       "       [0, 0, 0, ..., 0, 0, 0],\n",
       "       ...,\n",
       "       [0, 0, 0, ..., 0, 0, 0],\n",
       "       [0, 0, 0, ..., 0, 0, 0],\n",
       "       [0, 0, 0, ..., 0, 0, 0]], shape=(145150, 400), dtype=uint8)"
      ]
     },
     "execution_count": 16,
     "metadata": {},
     "output_type": "execute_result"
    }
   ],
   "source": [
    "posgrid_compare"
   ]
  },
  {
   "cell_type": "code",
   "execution_count": 20,
   "metadata": {},
   "outputs": [
    {
     "data": {
      "text/plain": [
       "False"
      ]
     },
     "execution_count": 20,
     "metadata": {},
     "output_type": "execute_result"
    }
   ],
   "source": [
    "comparison = np.array_equal(posgrid, posgrid_compare)\n",
    "comparison"
   ]
  },
  {
   "cell_type": "code",
   "execution_count": 23,
   "metadata": {},
   "outputs": [
    {
     "name": "stdout",
     "output_type": "stream",
     "text": [
      "Mismatched indices: (array([     0,      0,      1, ..., 145148, 145149, 145149],\n",
      "      shape=(273886,)), array([  3,  60,   3, ..., 381,  39, 381], shape=(273886,)))\n",
      "Python values: [0 1 0 ... 1 0 1]\n",
      "MATLAB values: [1 0 1 ... 0 1 0]\n"
     ]
    }
   ],
   "source": [
    "difference = np.where(posgrid != posgrid_compare)\n",
    "print(\"Mismatched indices:\", difference)\n",
    "print(\"Python values:\", posgrid[difference])\n",
    "print(\"MATLAB values:\", posgrid_compare[difference])"
   ]
  },
  {
   "cell_type": "code",
   "execution_count": 49,
   "metadata": {},
   "outputs": [],
   "source": [
    "import numpy as np\n",
    "\n",
    "def pos_map_python(pos, nbins, box_size):\n",
    "    \"\"\"\n",
    "    Python equivalent of MATLAB's pos_map function with Python-style 0-based indexing.\n",
    "    \n",
    "    Parameters:\n",
    "        pos (numpy.ndarray): Nx2 array with x and y coordinates.\n",
    "        nbins (int): Number of bins per dimension.\n",
    "        box_size (float): Size of the box.\n",
    "\n",
    "    Returns:\n",
    "        posgrid (numpy.ndarray): Binary matrix representing positional bins.\n",
    "        bins (numpy.ndarray): Bin centers.\n",
    "    \"\"\"\n",
    "    # Define bin centers similar to MATLAB code\n",
    "    bins = np.linspace(box_size / nbins / 2, box_size - box_size / nbins / 2, nbins)\n",
    "\n",
    "    # Initialize the position grid\n",
    "    posgrid = np.zeros((len(pos), nbins**2), dtype=int)\n",
    "\n",
    "    # Loop over positions to assign bin indices\n",
    "    for idx in range(len(pos)):\n",
    "        xcoor = np.argmin(np.abs(pos[idx, 0] - bins))\n",
    "        ycoor = np.argmin(np.abs(pos[idx, 1] - bins))\n",
    "\n",
    "        # Convert to zero-based index\n",
    "        bin_idx = (nbins - ycoor - 1) * nbins + xcoor  \n",
    "\n",
    "        posgrid[idx, bin_idx] = 1  # Assign position in posgrid\n",
    "\n",
    "    return posgrid, bins\n",
    "\n",
    "# Example usage with loaded data\n",
    "import scipy.io\n",
    "\n",
    "# Load the MATLAB file\n",
    "file_path = \"data_for_cell77.mat\"\n",
    "mat_data = scipy.io.loadmat(file_path)\n",
    "\n",
    "# Extract relevant data\n",
    "pos = np.hstack((mat_data['posx_c'], mat_data['posy_c']))\n",
    "nbins = 20\n",
    "box_size = mat_data['boxSize'][0, 0]\n",
    "\n",
    "# Compute posgrid using Python function\n",
    "posgrid_python, bins_python = pos_map_python(pos, nbins, box_size)\n"
   ]
  },
  {
   "cell_type": "code",
   "execution_count": 50,
   "metadata": {},
   "outputs": [
    {
     "data": {
      "text/plain": [
       "array([[0, 0, 0, ..., 0, 0, 0],\n",
       "       [0, 0, 0, ..., 0, 0, 0],\n",
       "       [0, 0, 0, ..., 0, 0, 0],\n",
       "       ...,\n",
       "       [0, 0, 0, ..., 0, 0, 0],\n",
       "       [0, 0, 0, ..., 0, 0, 0],\n",
       "       [0, 0, 0, ..., 0, 0, 0]], shape=(145150, 400))"
      ]
     },
     "execution_count": 50,
     "metadata": {},
     "output_type": "execute_result"
    }
   ],
   "source": [
    "posgrid_python"
   ]
  },
  {
   "cell_type": "code",
   "execution_count": 51,
   "metadata": {},
   "outputs": [
    {
     "data": {
      "text/plain": [
       "array([ 2.5,  7.5, 12.5, 17.5, 22.5, 27.5, 32.5, 37.5, 42.5, 47.5, 52.5,\n",
       "       57.5, 62.5, 67.5, 72.5, 77.5, 82.5, 87.5, 92.5, 97.5])"
      ]
     },
     "execution_count": 51,
     "metadata": {},
     "output_type": "execute_result"
    }
   ],
   "source": [
    "bins"
   ]
  },
  {
   "cell_type": "code",
   "execution_count": 52,
   "metadata": {},
   "outputs": [],
   "source": [
    "pos_matlab = scipy.io.loadmat('posgrid_matlab.mat')"
   ]
  },
  {
   "cell_type": "code",
   "execution_count": 53,
   "metadata": {},
   "outputs": [],
   "source": [
    "posgrid_matlab = pos_matlab['posgrid']"
   ]
  },
  {
   "cell_type": "code",
   "execution_count": 54,
   "metadata": {},
   "outputs": [
    {
     "data": {
      "text/plain": [
       "False"
      ]
     },
     "execution_count": 54,
     "metadata": {},
     "output_type": "execute_result"
    }
   ],
   "source": [
    "np.array_equal(posgrid_python, posgrid_matlab)"
   ]
  },
  {
   "cell_type": "code",
   "execution_count": 55,
   "metadata": {},
   "outputs": [
    {
     "data": {
      "text/plain": [
       "(array([     0,      0,      1, ..., 145148, 145149, 145149],\n",
       "       shape=(273886,)),\n",
       " array([  3,  60,   3, ..., 381,  39, 381], shape=(273886,)))"
      ]
     },
     "execution_count": 55,
     "metadata": {},
     "output_type": "execute_result"
    }
   ],
   "source": [
    "difference = np.where(posgrid_python != posgrid_matlab)\n",
    "difference\n"
   ]
  },
  {
   "cell_type": "code",
   "execution_count": 56,
   "metadata": {},
   "outputs": [
    {
     "name": "stdout",
     "output_type": "stream",
     "text": [
      "Mismatched indices: (array([     0,      0,      1, ..., 145148, 145149, 145149],\n",
      "      shape=(273886,)), array([  3,  60,   3, ..., 381,  39, 381], shape=(273886,)))\n",
      "Python values: [0 1 0 ... 1 0 1]\n",
      "MATLAB values: [1 0 1 ... 0 1 0]\n"
     ]
    }
   ],
   "source": [
    "print(\"Mismatched indices:\", difference)\n",
    "print(\"Python values:\", posgrid_python[difference])\n",
    "print(\"MATLAB values:\", posgrid_matlab[difference])"
   ]
  },
  {
   "cell_type": "code",
   "execution_count": 57,
   "metadata": {},
   "outputs": [
    {
     "data": {
      "text/plain": [
       "273886"
      ]
     },
     "execution_count": 57,
     "metadata": {},
     "output_type": "execute_result"
    }
   ],
   "source": [
    "len(posgrid_python[difference])"
   ]
  },
  {
   "cell_type": "code",
   "execution_count": 58,
   "metadata": {},
   "outputs": [
    {
     "data": {
      "text/plain": [
       "273886"
      ]
     },
     "execution_count": 58,
     "metadata": {},
     "output_type": "execute_result"
    }
   ],
   "source": [
    "len(posgrid_matlab[difference])"
   ]
  },
  {
   "cell_type": "code",
   "execution_count": null,
   "metadata": {},
   "outputs": [],
   "source": []
  }
 ],
 "metadata": {
  "kernelspec": {
   "display_name": "lnmodel",
   "language": "python",
   "name": "python3"
  },
  "language_info": {
   "codemirror_mode": {
    "name": "ipython",
    "version": 3
   },
   "file_extension": ".py",
   "mimetype": "text/x-python",
   "name": "python",
   "nbconvert_exporter": "python",
   "pygments_lexer": "ipython3",
   "version": "3.12.8"
  }
 },
 "nbformat": 4,
 "nbformat_minor": 2
}
