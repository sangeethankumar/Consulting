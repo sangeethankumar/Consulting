{
 "cells": [
  {
   "cell_type": "code",
   "execution_count": 10,
   "metadata": {},
   "outputs": [],
   "source": [
    "import pypylon.pylon as py\n",
    "import os\n",
    "import cv2\n",
    "import time"
   ]
  },
  {
   "cell_type": "code",
   "execution_count": 2,
   "metadata": {},
   "outputs": [],
   "source": [
    "os.environ['PYLON_CAMEMU'] = '1'"
   ]
  },
  {
   "cell_type": "markdown",
   "metadata": {},
   "source": [
    "# Session 3\n",
    "\n",
    "Steps for data acquisition pipeline \n",
    "\n",
    "1. Get camera object\n",
    "2. Open the camera\n",
    "3. Configure camera\n",
    "4. Configure trigger\n",
    "5. Set grab strategy\n",
    "6. Set up video writer\n",
    "7. Collect frames and write to a video (loop)\n",
    "8. Stop grabbing and close camera\n",
    "9.  Stop writing"
   ]
  },
  {
   "cell_type": "code",
   "execution_count": 3,
   "metadata": {},
   "outputs": [],
   "source": [
    "tlf = py.TlFactory.GetInstance()\n",
    "devices = tlf.EnumerateDevices()\n",
    "cam = py.InstantCamera(tlf.CreateDevice(devices[0]))"
   ]
  },
  {
   "cell_type": "code",
   "execution_count": 4,
   "metadata": {},
   "outputs": [],
   "source": [
    "cam.Open()"
   ]
  },
  {
   "cell_type": "code",
   "execution_count": 5,
   "metadata": {},
   "outputs": [],
   "source": [
    "cam.Width.Value = 1920\n",
    "cam.Height.Value = 1080\n",
    "cam.AcquisitionFrameRateEnable.Value = True\n",
    "cam.AcquisitionFrameRate.Value = 200"
   ]
  },
  {
   "cell_type": "code",
   "execution_count": 7,
   "metadata": {},
   "outputs": [],
   "source": [
    "cam.TriggerMode.Value = \"On\"  \n",
    "cam.TriggerSource.Value = \"Line1\"  \n",
    "cam.TriggerActivation.Value = \"RisingEdge\"\n",
    "cam.TriggerSelector.Value = \"FrameStart\"\n",
    "\n",
    "cam.ExposureMode.Value = \"TriggerControlled\"  "
   ]
  },
  {
   "cell_type": "code",
   "execution_count": 8,
   "metadata": {},
   "outputs": [],
   "source": [
    "cam.StartGrabbing(py.GrabStrategy_OneByOne)"
   ]
  },
  {
   "cell_type": "code",
   "execution_count": 9,
   "metadata": {},
   "outputs": [],
   "source": [
    "op_name = 'output.avi'\n",
    "fourcc = cv2.VideoWriter_fourcc(*'XVID')\n",
    "video_writer = cv2.VideoWriter(op_name, fourcc, fps=100, frameSize=(1920, 1080))"
   ]
  },
  {
   "cell_type": "code",
   "execution_count": null,
   "metadata": {},
   "outputs": [],
   "source": [
    "fcount = 0\n",
    "while cam.IsGrabbing():\n",
    "    res = cam.RetrieveResult(5000)\n",
    "    if res.GrabSucceeded():\n",
    "        fcount += 1\n",
    "        print(f\"Frame num: {fcount}\")\n",
    "        video_writer.write(res.Array)\n",
    "    res.Release()\n",
    "    # time.sleep(0.1)  "
   ]
  },
  {
   "cell_type": "code",
   "execution_count": 12,
   "metadata": {},
   "outputs": [],
   "source": [
    "cam.StopGrabbing()\n",
    "cam.Close()"
   ]
  },
  {
   "cell_type": "code",
   "execution_count": 13,
   "metadata": {},
   "outputs": [],
   "source": [
    "video_writer.release()"
   ]
  }
 ],
 "metadata": {
  "kernelspec": {
   "display_name": "jt",
   "language": "python",
   "name": "python3"
  },
  "language_info": {
   "codemirror_mode": {
    "name": "ipython",
    "version": 3
   },
   "file_extension": ".py",
   "mimetype": "text/x-python",
   "name": "python",
   "nbconvert_exporter": "python",
   "pygments_lexer": "ipython3",
   "version": "3.12.8"
  }
 },
 "nbformat": 4,
 "nbformat_minor": 2
}
