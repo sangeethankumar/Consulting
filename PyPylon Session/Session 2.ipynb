{
 "cells": [
  {
   "cell_type": "code",
   "execution_count": 1,
   "metadata": {},
   "outputs": [],
   "source": [
    "import pypylon.pylon as py\n",
    "import os\n",
    "import cv2\n",
    "import time"
   ]
  },
  {
   "cell_type": "code",
   "execution_count": 2,
   "metadata": {},
   "outputs": [],
   "source": [
    "os.environ['PYLON_CAMEMU'] = '1'"
   ]
  },
  {
   "cell_type": "code",
   "execution_count": 3,
   "metadata": {},
   "outputs": [],
   "source": [
    "tlf = py.TlFactory.GetInstance()\n",
    "devices = tlf.EnumerateDevices()\n",
    "device = devices[0]"
   ]
  },
  {
   "cell_type": "code",
   "execution_count": 4,
   "metadata": {},
   "outputs": [],
   "source": [
    "cd = tlf.CreateDevice(device)\n",
    "cam = py.InstantCamera(cd)\n",
    "cam.Open()"
   ]
  },
  {
   "cell_type": "code",
   "execution_count": 5,
   "metadata": {},
   "outputs": [],
   "source": [
    "cam.AcquisitionFrameRateAbs.Value = 100"
   ]
  },
  {
   "cell_type": "code",
   "execution_count": 6,
   "metadata": {},
   "outputs": [],
   "source": [
    "max_frames = 400\n",
    "cam.StartGrabbingMax(max_frames)"
   ]
  },
  {
   "cell_type": "code",
   "execution_count": 7,
   "metadata": {},
   "outputs": [
    {
     "name": "stdout",
     "output_type": "stream",
     "text": [
      "CPU times: total: 141 ms\n",
      "Wall time: 6.54 s\n"
     ]
    }
   ],
   "source": [
    "%%time\n",
    "while cam.IsGrabbing():\n",
    "    res = cam.RetrieveResult(1000)\n",
    "    res.Release()\n",
    "cam.StopGrabbing()"
   ]
  },
  {
   "cell_type": "code",
   "execution_count": 13,
   "metadata": {},
   "outputs": [
    {
     "data": {
      "text/plain": [
       "100.0"
      ]
     },
     "execution_count": 13,
     "metadata": {},
     "output_type": "execute_result"
    }
   ],
   "source": [
    "cam.ResultingFrameRateAbs()"
   ]
  },
  {
   "cell_type": "code",
   "execution_count": 8,
   "metadata": {},
   "outputs": [],
   "source": [
    "op_name = 'output.avi'\n",
    "fourcc = cv2.VideoWriter_fourcc(*'XVID')\n",
    "video_writer = cv2.VideoWriter(op_name, fourcc, fps=200, frameSize=(1920, 1080))"
   ]
  },
  {
   "cell_type": "code",
   "execution_count": 9,
   "metadata": {},
   "outputs": [
    {
     "data": {
      "text/plain": [
       "100.0"
      ]
     },
     "execution_count": 9,
     "metadata": {},
     "output_type": "execute_result"
    }
   ],
   "source": [
    "max_frames = 400\n",
    "cam.StartGrabbingMax(max_frames)\n",
    "while cam.IsGrabbing():\n",
    "    res = cam.RetrieveResult(1000)\n",
    "    image = cv2.cvtColor(res.Array, cv2.COLOR_GRAY2BGR)\n",
    "    video_writer.write(image)\n",
    "    res.Release()\n",
    "cam.StopGrabbing()\n",
    "cam.ResultingFrameRateAbs()"
   ]
  },
  {
   "cell_type": "code",
   "execution_count": 10,
   "metadata": {},
   "outputs": [
    {
     "data": {
      "text/plain": [
       "100.0"
      ]
     },
     "execution_count": 10,
     "metadata": {},
     "output_type": "execute_result"
    }
   ],
   "source": [
    "max_frames = 400\n",
    "cam.StartGrabbingMax(max_frames)\n",
    "while cam.IsGrabbing():\n",
    "    res = cam.RetrieveResult(1000)\n",
    "    image = cv2.cvtColor(res.Array, cv2.COLOR_BAYER_BG2GRAY)\n",
    "    video_writer.write(image)\n",
    "    res.Release()\n",
    "cam.StopGrabbing()\n",
    "cam.ResultingFrameRateAbs()"
   ]
  },
  {
   "cell_type": "code",
   "execution_count": 11,
   "metadata": {},
   "outputs": [
    {
     "data": {
      "text/plain": [
       "10000.0"
      ]
     },
     "execution_count": 11,
     "metadata": {},
     "output_type": "execute_result"
    }
   ],
   "source": [
    "cam.ExposureTimeAbs()"
   ]
  },
  {
   "cell_type": "code",
   "execution_count": 13,
   "metadata": {},
   "outputs": [],
   "source": [
    "cam.ExposureTimeAbs.Value = 1000"
   ]
  },
  {
   "cell_type": "markdown",
   "metadata": {},
   "source": [
    "## Grab Strategies"
   ]
  },
  {
   "cell_type": "markdown",
   "metadata": {},
   "source": [
    "One By One"
   ]
  },
  {
   "cell_type": "code",
   "execution_count": 24,
   "metadata": {},
   "outputs": [
    {
     "data": {
      "text/plain": [
       "826"
      ]
     },
     "execution_count": 24,
     "metadata": {},
     "output_type": "execute_result"
    }
   ],
   "source": [
    "tot_time = 10.\n",
    "fcount = 0\n",
    "stime = time.time()\n",
    "cam.StartGrabbing(py.GrabStrategy_OneByOne)\n",
    "while cam.IsGrabbing() and time.time() - stime < tot_time:\n",
    "    res = cam.RetrieveResult(1000)\n",
    "    if res.IsValid():\n",
    "        fcount += 1\n",
    "    res.Release()\n",
    "cam.StopGrabbing()\n",
    "fcount"
   ]
  },
  {
   "cell_type": "markdown",
   "metadata": {},
   "source": [
    "Latest Image Only"
   ]
  },
  {
   "cell_type": "code",
   "execution_count": 25,
   "metadata": {},
   "outputs": [
    {
     "data": {
      "text/plain": [
       "850"
      ]
     },
     "execution_count": 25,
     "metadata": {},
     "output_type": "execute_result"
    }
   ],
   "source": [
    "tot_time = 10.\n",
    "fcount = 0\n",
    "stime = time.time()\n",
    "cam.StartGrabbing(py.GrabStrategy_LatestImageOnly)\n",
    "while cam.IsGrabbing() and time.time() - stime < tot_time:\n",
    "    res = cam.RetrieveResult(1000)\n",
    "    if res.IsValid():\n",
    "        fcount += 1\n",
    "    res.Release()\n",
    "cam.StopGrabbing()\n",
    "fcount"
   ]
  },
  {
   "cell_type": "markdown",
   "metadata": {},
   "source": [
    "Latest Images"
   ]
  },
  {
   "cell_type": "code",
   "execution_count": null,
   "metadata": {},
   "outputs": [
    {
     "data": {
      "text/plain": [
       "845"
      ]
     },
     "execution_count": 27,
     "metadata": {},
     "output_type": "execute_result"
    }
   ],
   "source": [
    "n_queue = 1\n",
    "\n",
    "tot_time = 10.\n",
    "fcount = 0\n",
    "stime = time.time()\n",
    "cam.StartGrabbing(py.GrabStrategy_LatestImages)\n",
    "\n",
    "while cam.IsGrabbing() and time.time() - stime < tot_time:\n",
    "    res = cam.RetrieveResult(1000)\n",
    "    if res.IsValid():\n",
    "        fcount += 1\n",
    "    res.Release()\n",
    "cam.StopGrabbing()\n",
    "fcount"
   ]
  },
  {
   "cell_type": "markdown",
   "metadata": {},
   "source": [
    "## Grab Strategies - Buffer and Video Writing"
   ]
  },
  {
   "cell_type": "code",
   "execution_count": 36,
   "metadata": {},
   "outputs": [],
   "source": [
    "# setting up video writer\n",
    "op_name = 'output.avi'\n",
    "fourcc = cv2.VideoWriter_fourcc(*'XVID')\n",
    "video_writer = cv2.VideoWriter(op_name, fourcc, fps=100, frameSize=(1920, 1080))"
   ]
  },
  {
   "cell_type": "markdown",
   "metadata": {},
   "source": [
    "One By One"
   ]
  },
  {
   "cell_type": "code",
   "execution_count": 39,
   "metadata": {},
   "outputs": [
    {
     "data": {
      "text/plain": [
       "807"
      ]
     },
     "execution_count": 39,
     "metadata": {},
     "output_type": "execute_result"
    }
   ],
   "source": [
    "cam.MaxNumBuffer.Value = 100\n",
    "\n",
    "tot_time = 10.\n",
    "fcount = 0\n",
    "stime = time.time()\n",
    "cam.StartGrabbing(py.GrabStrategy_OneByOne)\n",
    "while cam.IsGrabbing() and time.time() - stime < tot_time:\n",
    "    res = cam.RetrieveResult(1000)\n",
    "    if res.IsValid():\n",
    "        fcount += 1\n",
    "    res.Release()\n",
    "cam.StopGrabbing()\n",
    "video_writer.release()\n",
    "fcount"
   ]
  },
  {
   "cell_type": "code",
   "execution_count": 40,
   "metadata": {},
   "outputs": [
    {
     "data": {
      "text/plain": [
       "843"
      ]
     },
     "execution_count": 40,
     "metadata": {},
     "output_type": "execute_result"
    }
   ],
   "source": [
    "cam.MaxNumBuffer.Value = 100\n",
    "\n",
    "tot_time = 10.\n",
    "fcount = 0\n",
    "stime = time.time()\n",
    "cam.StartGrabbing(py.GrabStrategy_OneByOne)\n",
    "while cam.IsGrabbing() and time.time() - stime < tot_time:\n",
    "    res = cam.RetrieveResult(1000)\n",
    "    if res.IsValid():\n",
    "        fcount += 1\n",
    "        image = cv2.cvtColor(res.Array, cv2.COLOR_GRAY2BGR)\n",
    "        video_writer.write(image)\n",
    "    res.Release()\n",
    "cam.StopGrabbing()\n",
    "video_writer.release()\n",
    "fcount"
   ]
  },
  {
   "cell_type": "markdown",
   "metadata": {},
   "source": [
    "Latest Image Only"
   ]
  },
  {
   "cell_type": "code",
   "execution_count": 43,
   "metadata": {},
   "outputs": [
    {
     "data": {
      "text/plain": [
       "861"
      ]
     },
     "execution_count": 43,
     "metadata": {},
     "output_type": "execute_result"
    }
   ],
   "source": [
    "cam.MaxNumBuffer.Value = 100\n",
    "\n",
    "tot_time = 10.\n",
    "fcount = 0\n",
    "stime = time.time()\n",
    "cam.StartGrabbing(py.GrabStrategy_LatestImageOnly)\n",
    "while cam.IsGrabbing() and time.time() - stime < tot_time:\n",
    "    res = cam.RetrieveResult(1000)\n",
    "    if res.IsValid():\n",
    "        fcount += 1\n",
    "    res.Release()\n",
    "cam.StopGrabbing()\n",
    "video_writer.release()\n",
    "fcount"
   ]
  },
  {
   "cell_type": "code",
   "execution_count": 44,
   "metadata": {},
   "outputs": [
    {
     "data": {
      "text/plain": [
       "812"
      ]
     },
     "execution_count": 44,
     "metadata": {},
     "output_type": "execute_result"
    }
   ],
   "source": [
    "cam.MaxNumBuffer.Value = 100\n",
    "\n",
    "tot_time = 10.\n",
    "fcount = 0\n",
    "stime = time.time()\n",
    "cam.StartGrabbing(py.GrabStrategy_LatestImageOnly)\n",
    "while cam.IsGrabbing() and time.time() - stime < tot_time:\n",
    "    res = cam.RetrieveResult(1000)\n",
    "    if res.IsValid():\n",
    "        fcount += 1\n",
    "        image = cv2.cvtColor(res.Array, cv2.COLOR_GRAY2BGR)\n",
    "        video_writer.write(image)\n",
    "    res.Release()\n",
    "cam.StopGrabbing()\n",
    "video_writer.release()\n",
    "fcount"
   ]
  },
  {
   "cell_type": "markdown",
   "metadata": {},
   "source": [
    "Latest Images"
   ]
  },
  {
   "cell_type": "code",
   "execution_count": 45,
   "metadata": {},
   "outputs": [
    {
     "data": {
      "text/plain": [
       "832"
      ]
     },
     "execution_count": 45,
     "metadata": {},
     "output_type": "execute_result"
    }
   ],
   "source": [
    "cam.MaxNumBuffer.Value = 1\n",
    "\n",
    "tot_time = 10.\n",
    "fcount = 0\n",
    "stime = time.time()\n",
    "cam.StartGrabbing(py.GrabStrategy_LatestImages)\n",
    "while cam.IsGrabbing() and time.time() - stime < tot_time:\n",
    "    res = cam.RetrieveResult(1000)\n",
    "    if res.IsValid():\n",
    "        fcount += 1\n",
    "    res.Release()\n",
    "cam.StopGrabbing()\n",
    "video_writer.release()\n",
    "fcount"
   ]
  },
  {
   "cell_type": "code",
   "execution_count": 48,
   "metadata": {},
   "outputs": [
    {
     "data": {
      "text/plain": [
       "817"
      ]
     },
     "execution_count": 48,
     "metadata": {},
     "output_type": "execute_result"
    }
   ],
   "source": [
    "cam.MaxNumBuffer.Value = 100\n",
    "\n",
    "tot_time = 10.\n",
    "fcount = 0\n",
    "stime = time.time()\n",
    "cam.StartGrabbing(py.GrabStrategy_LatestImages)\n",
    "while cam.IsGrabbing() and time.time() - stime < tot_time:\n",
    "    res = cam.RetrieveResult(1000)\n",
    "    if res.IsValid():\n",
    "        fcount += 1\n",
    "        image = cv2.cvtColor(res.Array, cv2.COLOR_GRAY2BGR)\n",
    "        video_writer.write(image)\n",
    "    res.Release()\n",
    "cam.StopGrabbing()\n",
    "video_writer.release()\n",
    "fcount"
   ]
  },
  {
   "cell_type": "markdown",
   "metadata": {},
   "source": [
    "## Grab Strategies - Exposure Time and Video Writing"
   ]
  },
  {
   "cell_type": "code",
   "execution_count": 49,
   "metadata": {},
   "outputs": [],
   "source": [
    "cam.MaxNumBuffer.Value = 100"
   ]
  },
  {
   "cell_type": "markdown",
   "metadata": {},
   "source": [
    "One By One"
   ]
  },
  {
   "cell_type": "code",
   "execution_count": 51,
   "metadata": {},
   "outputs": [
    {
     "data": {
      "text/plain": [
       "1000"
      ]
     },
     "execution_count": 51,
     "metadata": {},
     "output_type": "execute_result"
    }
   ],
   "source": [
    "cam.ExposureTimeAbs.Value = 100\n",
    "tot_time = 10.\n",
    "fcount = 0\n",
    "stime = time.time()\n",
    "cam.StartGrabbing(py.GrabStrategy_OneByOne)\n",
    "while cam.IsGrabbing() and time.time() - stime < tot_time:\n",
    "    res = cam.RetrieveResult(1000)\n",
    "    if res.IsValid():\n",
    "        fcount += 1\n",
    "    res.Release()\n",
    "cam.StopGrabbing()\n",
    "video_writer.release()\n",
    "fcount"
   ]
  },
  {
   "cell_type": "code",
   "execution_count": 54,
   "metadata": {},
   "outputs": [
    {
     "data": {
      "text/plain": [
       "1000"
      ]
     },
     "execution_count": 54,
     "metadata": {},
     "output_type": "execute_result"
    }
   ],
   "source": [
    "cam.ExposureTimeAbs.Value = 100\n",
    "tot_time = 10.\n",
    "fcount = 0\n",
    "stime = time.time()\n",
    "cam.StartGrabbing(py.GrabStrategy_OneByOne)\n",
    "while cam.IsGrabbing() and time.time() - stime < tot_time:\n",
    "    res = cam.RetrieveResult(1000)\n",
    "    if res.IsValid():\n",
    "        fcount += 1\n",
    "        image = cv2.cvtColor(res.Array, cv2.COLOR_GRAY2BGR)\n",
    "        video_writer.write(image)\n",
    "    res.Release()\n",
    "cam.StopGrabbing()\n",
    "video_writer.release()\n",
    "fcount"
   ]
  },
  {
   "cell_type": "markdown",
   "metadata": {},
   "source": [
    "Lates Image Only"
   ]
  },
  {
   "cell_type": "code",
   "execution_count": 57,
   "metadata": {},
   "outputs": [
    {
     "data": {
      "text/plain": [
       "1000"
      ]
     },
     "execution_count": 57,
     "metadata": {},
     "output_type": "execute_result"
    }
   ],
   "source": [
    "cam.ExposureTimeAbs.Value = 100\n",
    "\n",
    "tot_time = 10.\n",
    "fcount = 0\n",
    "stime = time.time()\n",
    "cam.StartGrabbing(py.GrabStrategy_LatestImageOnly)\n",
    "while cam.IsGrabbing() and time.time() - stime < tot_time:\n",
    "    res = cam.RetrieveResult(1000)\n",
    "    if res.IsValid():\n",
    "        fcount += 1\n",
    "    res.Release()\n",
    "cam.StopGrabbing()\n",
    "fcount"
   ]
  },
  {
   "cell_type": "code",
   "execution_count": 58,
   "metadata": {},
   "outputs": [
    {
     "data": {
      "text/plain": [
       "998"
      ]
     },
     "execution_count": 58,
     "metadata": {},
     "output_type": "execute_result"
    }
   ],
   "source": [
    "cam.ExposureTimeAbs.Value = 100\n",
    "\n",
    "tot_time = 10.\n",
    "fcount = 0\n",
    "stime = time.time()\n",
    "cam.StartGrabbing(py.GrabStrategy_LatestImageOnly)\n",
    "while cam.IsGrabbing() and time.time() - stime < tot_time:\n",
    "    res = cam.RetrieveResult(1000)\n",
    "    if res.IsValid():\n",
    "        fcount += 1\n",
    "        image = cv2.cvtColor(res.Array, cv2.COLOR_GRAY2BGR)\n",
    "        video_writer.write(image)\n",
    "    res.Release()\n",
    "cam.StopGrabbing()\n",
    "video_writer.release()\n",
    "fcount"
   ]
  },
  {
   "cell_type": "markdown",
   "metadata": {},
   "source": [
    "Lates Images"
   ]
  },
  {
   "cell_type": "code",
   "execution_count": 59,
   "metadata": {},
   "outputs": [
    {
     "data": {
      "text/plain": [
       "94"
      ]
     },
     "execution_count": 59,
     "metadata": {},
     "output_type": "execute_result"
    }
   ],
   "source": [
    "cam.ExposureTimeAbs.Value = 100000\n",
    "\n",
    "tot_time = 10.\n",
    "fcount = 0\n",
    "stime = time.time()\n",
    "cam.StartGrabbing(py.GrabStrategy_LatestImages)\n",
    "while cam.IsGrabbing() and time.time() - stime < tot_time:\n",
    "    res = cam.RetrieveResult(1000)\n",
    "    if res.IsValid():\n",
    "        fcount += 1\n",
    "    res.Release()\n",
    "cam.StopGrabbing()\n",
    "video_writer.release()\n",
    "fcount"
   ]
  },
  {
   "cell_type": "code",
   "execution_count": 60,
   "metadata": {},
   "outputs": [
    {
     "data": {
      "text/plain": [
       "94"
      ]
     },
     "execution_count": 60,
     "metadata": {},
     "output_type": "execute_result"
    }
   ],
   "source": [
    "cam.ExposureTimeAbs.Value = 100000\n",
    "\n",
    "tot_time = 10.\n",
    "fcount = 0\n",
    "stime = time.time()\n",
    "cam.StartGrabbing(py.GrabStrategy_LatestImages)\n",
    "while cam.IsGrabbing() and time.time() - stime < tot_time:\n",
    "    res = cam.RetrieveResult(1000)\n",
    "    if res.IsValid():\n",
    "        fcount += 1\n",
    "        image = cv2.cvtColor(res.Array, cv2.COLOR_GRAY2BGR)\n",
    "        video_writer.write(image)\n",
    "    res.Release()\n",
    "cam.StopGrabbing()\n",
    "video_writer.release()\n",
    "fcount"
   ]
  }
 ],
 "metadata": {
  "kernelspec": {
   "display_name": "jt",
   "language": "python",
   "name": "python3"
  },
  "language_info": {
   "codemirror_mode": {
    "name": "ipython",
    "version": 3
   },
   "file_extension": ".py",
   "mimetype": "text/x-python",
   "name": "python",
   "nbconvert_exporter": "python",
   "pygments_lexer": "ipython3",
   "version": "3.12.8"
  }
 },
 "nbformat": 4,
 "nbformat_minor": 2
}
