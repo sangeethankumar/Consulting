{
 "cells": [
  {
   "cell_type": "code",
   "execution_count": 1,
   "metadata": {},
   "outputs": [],
   "source": [
    "import pypylon.pylon as py\n",
    "import matplotlib.pyplot as plt\n",
    "import numpy as np\n",
    "import cv2\n",
    "import os"
   ]
  },
  {
   "cell_type": "code",
   "execution_count": 2,
   "metadata": {},
   "outputs": [],
   "source": [
    "op_name = \"output.avi\"\n",
    "fw = 1280\n",
    "fh = 720\n",
    "fps = 200\n",
    "fourcc = cv2.VideoWriter_fourcc(*'XVID')"
   ]
  },
  {
   "cell_type": "code",
   "execution_count": 3,
   "metadata": {},
   "outputs": [],
   "source": [
    "os.environ[\"PYLON_CAMEMU\"] = \"1\""
   ]
  },
  {
   "cell_type": "markdown",
   "metadata": {},
   "source": [
    "Two steps to do \n",
    "\n",
    "1. Create an instance of transport layer which is responsible for detecting and managing connected cameras. It is required to communicate with the camera hardware.\n",
    "2. Create a camera object for the camera that you are interested in and wrap it with InstantCamera for ease of handling."
   ]
  },
  {
   "cell_type": "code",
   "execution_count": 4,
   "metadata": {},
   "outputs": [],
   "source": [
    "tlf = py.TlFactory.GetInstance()\n",
    "devices = tlf.EnumerateDevices()\n",
    "cam = py.InstantCamera(tlf.CreateDevice(devices[0]))"
   ]
  },
  {
   "cell_type": "code",
   "execution_count": 5,
   "metadata": {},
   "outputs": [
    {
     "data": {
      "text/plain": [
       "<pypylon.genicam.IInteger; proxy of <Swig Object of type 'GENAPI_NAMESPACE::IInteger *' at 0x00000153FE49C240> >"
      ]
     },
     "execution_count": 5,
     "metadata": {},
     "output_type": "execute_result"
    }
   ],
   "source": [
    "cam.Width"
   ]
  },
  {
   "cell_type": "markdown",
   "metadata": {},
   "source": [
    "Initialize the connection to the Basler camera. This is a required step before we can capture or stream video. Camera configuration can be set once it is opened."
   ]
  },
  {
   "cell_type": "code",
   "execution_count": 6,
   "metadata": {},
   "outputs": [],
   "source": [
    "cam.Open()"
   ]
  },
  {
   "cell_type": "markdown",
   "metadata": {},
   "source": [
    "Configuring the camera"
   ]
  },
  {
   "cell_type": "code",
   "execution_count": 7,
   "metadata": {},
   "outputs": [],
   "source": [
    "cam.Width.Value = fw\n",
    "cam.Height.Value = fh\n",
    "cam.AcquisitionFrameRate.Value = fps"
   ]
  },
  {
   "cell_type": "markdown",
   "metadata": {},
   "source": [
    "There are different strategies to use for camera grabbing. \n",
    "`LatestImageOnly` might be useful for streaming while `OneByOne` might be useful for storing to disk"
   ]
  },
  {
   "cell_type": "code",
   "execution_count": 8,
   "metadata": {},
   "outputs": [],
   "source": [
    "cam.StartGrabbing(py.GrabStrategy_OneByOne)"
   ]
  },
  {
   "cell_type": "code",
   "execution_count": 9,
   "metadata": {},
   "outputs": [],
   "source": [
    "video_writer = cv2.VideoWriter(op_name, fourcc, fps, (fw, fh))"
   ]
  },
  {
   "cell_type": "code",
   "execution_count": 10,
   "metadata": {},
   "outputs": [],
   "source": [
    "frame_count = 0\n",
    "max_frames = 400\n",
    "\n",
    "while cam.IsGrabbing() and frame_count < max_frames:\n",
    "    grab_result = cam.RetrieveResult(5000, py.TimeoutHandling_ThrowException)\n",
    "\n",
    "    if grab_result.GrabSucceeded():\n",
    "        img = grab_result.Array\n",
    "        img = cv2.cvtColor(img, cv2.COLOR_GRAY2BGR) \n",
    "\n",
    "        video_writer.write(img)\n",
    "        frame_count += 1\n",
    "\n",
    "        # cv2.imshow(\"Live Feed\", img)\n",
    "        # if cv2.waitKey(1) & 0xFF == ord('q'):  # Press 'q' to stop recording\n",
    "        #     break\n",
    "\n",
    "    grab_result.Release()"
   ]
  },
  {
   "cell_type": "code",
   "execution_count": 11,
   "metadata": {},
   "outputs": [],
   "source": [
    "cam.StopGrabbing()"
   ]
  },
  {
   "cell_type": "code",
   "execution_count": 12,
   "metadata": {},
   "outputs": [],
   "source": [
    "video_writer.release()"
   ]
  },
  {
   "cell_type": "code",
   "execution_count": 13,
   "metadata": {},
   "outputs": [],
   "source": [
    "cv2.destroyAllWindows()"
   ]
  },
  {
   "cell_type": "code",
   "execution_count": 14,
   "metadata": {},
   "outputs": [],
   "source": [
    "cam.Close()"
   ]
  }
 ],
 "metadata": {
  "kernelspec": {
   "display_name": "jt",
   "language": "python",
   "name": "python3"
  },
  "language_info": {
   "codemirror_mode": {
    "name": "ipython",
    "version": 3
   },
   "file_extension": ".py",
   "mimetype": "text/x-python",
   "name": "python",
   "nbconvert_exporter": "python",
   "pygments_lexer": "ipython3",
   "version": "3.12.8"
  }
 },
 "nbformat": 4,
 "nbformat_minor": 2
}
