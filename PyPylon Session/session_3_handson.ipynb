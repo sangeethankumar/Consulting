{
 "cells": [
  {
   "cell_type": "code",
   "execution_count": null,
   "metadata": {
    "vscode": {
     "languageId": "plaintext"
    }
   },
   "outputs": [],
   "source": [
    "import pypylon.pylon as py\n",
    "import os\n",
    "import cv2\n",
    "import time\n",
    "\n",
    "# Initialize Pylon Camera\n",
    "tlf = py.TlFactory.GetInstance()\n",
    "devices = tlf.EnumerateDevices()\n",
    "cam = py.InstantCamera(tlf.CreateDevice(devices[0]))\n",
    "\n",
    "cam.Open()\n",
    "\n",
    "# Configure Camera\n",
    "cam.Width.Value = 1920\n",
    "cam.Height.Value = 1080\n",
    "cam.AcquisitionFrameRateEnable.Value = True\n",
    "cam.AcquisitionFrameRate.Value = 200\n",
    "\n",
    "cam.TriggerMode.Value = \"On\"  \n",
    "cam.TriggerSource.Value = \"Line1\"  \n",
    "cam.TriggerActivation.Value = \"RisingEdge\"\n",
    "cam.TriggerSelector.Value = \"FrameStart\"\n",
    "\n",
    "# cam.ExposureMode.Value = \"TriggerControlled\"  \n",
    "\n",
    "cam.StartGrabbing(py.GrabStrategy_OneByOne)\n",
    "\n",
    "# Setup video writer\n",
    "op_name = 'output.avi'\n",
    "fourcc = cv2.VideoWriter_fourcc(*'XVID')\n",
    "video_writer = cv2.VideoWriter(op_name, fourcc, fps=100, frameSize=(1920, 1080))\n",
    "\n",
    "fcount = 0\n",
    "\n",
    "while cam.IsGrabbing():\n",
    "    res = cam.RetrieveResult(5000, py.TimeoutHandling_Return)\n",
    "\n",
    "    # Check if the frame was grabbed successfully\n",
    "    if not res.GrabSucceeded():\n",
    "        print(\"Waiting for hardware trigger...\")\n",
    "        time.sleep(0.5)  # Small delay before retrying\n",
    "        continue  # Retry without breaking the loop\n",
    "    \n",
    "    # If trigger is received, process the frame\n",
    "    fcount += 1\n",
    "    print(f\"Frame num: {fcount}\")\n",
    "    video_writer.write(res.Array)\n",
    "\n",
    "    res.Release()\n",
    "\n",
    "# Stop and release resources\n",
    "cam.StopGrabbing()\n",
    "cam.Close()\n",
    "video_writer.release()\n"
   ]
  }
 ],
 "metadata": {
  "language_info": {
   "name": "python"
  }
 },
 "nbformat": 4,
 "nbformat_minor": 2
}
