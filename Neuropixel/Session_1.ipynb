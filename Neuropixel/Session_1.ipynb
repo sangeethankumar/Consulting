{
 "cells": [
  {
   "cell_type": "code",
   "execution_count": null,
   "metadata": {},
   "outputs": [],
   "source": [
    "from npyx.inout import read_metadata"
   ]
  },
  {
   "cell_type": "code",
   "execution_count": null,
   "metadata": {},
   "outputs": [],
   "source": [
    "dp = r'C:\\Users\\sangeetha\\Data'\n",
    "meta = read_metadata(dp)"
   ]
  },
  {
   "cell_type": "code",
   "execution_count": null,
   "metadata": {},
   "outputs": [],
   "source": [
    "meta"
   ]
  },
  {
   "cell_type": "markdown",
   "metadata": {},
   "source": [
    "Testing"
   ]
  },
  {
   "cell_type": "code",
   "execution_count": null,
   "metadata": {},
   "outputs": [],
   "source": [
    "from npyx.testing import test_npyx\n",
    "\n",
    "# any spike sorted recording compatible with phy\n",
    "# (e.g. kilosort output)\n",
    "dp = r'C:\\Users\\sangeetha\\Data'\n",
    "test_npyx(dp)\n",
    "\n",
    "# if any test fails, re-run them with the following to print the error log, and try to fix it or post an issue on github:\n",
    "test_npyx(dp, raise_error=True)"
   ]
  }
 ],
 "metadata": {
  "kernelspec": {
   "display_name": "neuropx",
   "language": "python",
   "name": "python3"
  },
  "language_info": {
   "codemirror_mode": {
    "name": "ipython",
    "version": 3
   },
   "file_extension": ".py",
   "mimetype": "text/x-python",
   "name": "python",
   "nbconvert_exporter": "python",
   "pygments_lexer": "ipython3",
   "version": "3.10.16"
  }
 },
 "nbformat": 4,
 "nbformat_minor": 2
}
