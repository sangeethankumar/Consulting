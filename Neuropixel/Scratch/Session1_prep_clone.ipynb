{
 "cells": [
  {
   "cell_type": "code",
   "execution_count": null,
   "metadata": {},
   "outputs": [],
   "source": [
    "import sys\n",
    "\n",
    "sys.path.append(r'C:\\Users\\sangeetha\\Tract\\Consulting\\Neuropixel\\NeuroPyxels')"
   ]
  },
  {
   "cell_type": "markdown",
   "metadata": {},
   "source": [
    "In this I did the following\n",
    "\n",
    "1. Edit folder_names in structure.oebin \n",
    "   1. *ProbeA to AP\n",
    "   2. Acquisition* to LFP\n",
    "2. Now reads meta data\n",
    "3. Also gets good units\n",
    "\n",
    "\n",
    "It runs from the code installed from cloned repo\n",
    "\n",
    "\n",
    "What I should still test out\n",
    "\n",
    "1. Spike times: I need spike_times.npy to test if spike times for any given unit can be loaded"
   ]
  },
  {
   "cell_type": "code",
   "execution_count": null,
   "metadata": {},
   "outputs": [],
   "source": [
    "# %pip install seaborn imblearn h5py networkx cmcrameri scikit-learn matplotlib pandas tqdm cachecache scipy numba"
   ]
  },
  {
   "cell_type": "code",
   "execution_count": null,
   "metadata": {},
   "outputs": [],
   "source": [
    "import npyx"
   ]
  },
  {
   "cell_type": "code",
   "execution_count": null,
   "metadata": {},
   "outputs": [],
   "source": [
    "from npyx.inout import read_metadata"
   ]
  },
  {
   "cell_type": "code",
   "execution_count": null,
   "metadata": {},
   "outputs": [],
   "source": [
    "dp = r'C:\\Users\\sangeetha\\Data'\n",
    "meta = read_metadata(dp)"
   ]
  },
  {
   "cell_type": "code",
   "execution_count": null,
   "metadata": {},
   "outputs": [],
   "source": [
    "meta = {}"
   ]
  },
  {
   "cell_type": "code",
   "execution_count": null,
   "metadata": {},
   "outputs": [],
   "source": [
    "meta"
   ]
  },
  {
   "cell_type": "code",
   "execution_count": null,
   "metadata": {},
   "outputs": [],
   "source": [
    "import json\n",
    "\n",
    "with open(r\"C:\\Users\\sangeetha\\Data\\structure.oebin\") as f:\n",
    "    meta_oe = json.load(f)"
   ]
  },
  {
   "cell_type": "code",
   "execution_count": null,
   "metadata": {},
   "outputs": [],
   "source": [
    "meta_oe"
   ]
  },
  {
   "cell_type": "code",
   "execution_count": null,
   "metadata": {},
   "outputs": [],
   "source": [
    "for i,processor in enumerate(meta_oe['continuous']):\n",
    "    if 'Neuropix-PXI' in processor[\"source_processor_name\"]:\n",
    "        probe_index = i\n",
    "        break"
   ]
  },
  {
   "cell_type": "code",
   "execution_count": null,
   "metadata": {},
   "outputs": [],
   "source": [
    "probe_index"
   ]
  },
  {
   "cell_type": "code",
   "execution_count": null,
   "metadata": {},
   "outputs": [],
   "source": [
    "oe_probe_version = meta_oe[\"continuous\"][probe_index][\"source_processor_name\"]"
   ]
  },
  {
   "cell_type": "code",
   "execution_count": null,
   "metadata": {},
   "outputs": [],
   "source": [
    "meta_oe[\"continuous\"][probe_index][\"channels\"][0][\"bit_volts\"]"
   ]
  },
  {
   "cell_type": "code",
   "execution_count": null,
   "metadata": {},
   "outputs": [],
   "source": [
    "from npyx.utils import read_pyfile\n",
    "from pathlib import Path\n",
    "\n",
    "params_f = Path(r\"C:\\Users\\sangeetha\\Data\\params.py\")\n",
    "if params_f.exists():\n",
    "    params=read_pyfile(params_f)\n",
    "params"
   ]
  },
  {
   "cell_type": "code",
   "execution_count": null,
   "metadata": {},
   "outputs": [],
   "source": [
    "import os\n",
    "from npyx.utils import list_files\n",
    "\n",
    "filt_index = {'AB': [], 'NP': []}\n",
    "for i,processor in enumerate(meta_oe['continuous']):\n",
    "    if 'Acquisition_Board-104.Rhythm Data' in processor['folder_name']:\n",
    "        filt_index['AB'] = i\n",
    "    if 'Neuropix-PXI-100.ProbeA' in processor['folder_name']:\n",
    "        filt_index['NP'] = i\n",
    "\n",
    "\n",
    "# find everything else\n",
    "for filt_key in ['AB','NP']:\n",
    "    meta[filt_key]={}\n",
    "    filt_key_i=filt_index[filt_key]\n",
    "    meta[filt_key]['sampling_rate']=float(meta_oe[\"continuous\"][filt_key_i]['sample_rate'])\n",
    "    meta[filt_key]['n_channels_binaryfile']=int(meta_oe[\"continuous\"][filt_key_i]['num_channels'])\n",
    "    if params_f.exists():\n",
    "        meta[filt_key]['n_channels_analysed']=params['n_channels_dat']\n",
    "        meta[filt_key]['datatype']=params['dtype']\n",
    "    else:\n",
    "        meta[filt_key]['n_channels_analysed']=meta[filt_key]['n_channels_binaryfile']\n",
    "        meta[filt_key]['datatype']='int16'\n",
    "    binary_folder = './continuous/'+meta_oe[\"continuous\"][filt_key_i]['folder_name']\n",
    "    bin_folder_name = os.path.join(dp, binary_folder)\n",
    "    binary_file = list_files(bin_folder_name, \"dat\", False)\n",
    "    if any(binary_file):\n",
    "        binary_rel_path = binary_folder+binary_file[0]\n",
    "        meta[filt_key]['binary_relative_path']=binary_rel_path\n",
    "        bin_rel_path_concatenate = os.path.join(dp, binary_rel_path)\n",
    "        meta[filt_key]['binary_byte_size']=os.path.getsize(bin_rel_path_concatenate)\n",
    "        if filt_key=='AB' and params_f.exists() and params['dat_path']!=binary_rel_path:\n",
    "            print((f'\\033[34;1mWARNING edit dat_path in params.py '\n",
    "            f'so that it matches relative location of high pass filtered binary file: {binary_rel_path}'))\n",
    "    else:\n",
    "        meta[filt_key]['binary_relative_path']='not_found'\n",
    "        meta[filt_key]['binary_byte_size']='unknown'\n",
    "        print(f\"\\033[91;1mWARNING {filt_key} binary file not found at {dp}\\033[0m\")\n",
    "    meta[filt_key]={**meta[filt_key], **meta_oe[\"continuous\"][filt_key_i]}\n",
    "meta[\"events\"]=meta_oe[\"events\"]\n",
    "meta[\"spikes\"]=meta_oe[\"spikes\"]\n"
   ]
  },
  {
   "cell_type": "code",
   "execution_count": null,
   "metadata": {},
   "outputs": [],
   "source": []
  },
  {
   "cell_type": "code",
   "execution_count": null,
   "metadata": {},
   "outputs": [],
   "source": [
    "from npyx.gl import get_units\n",
    "units = get_units(dp, quality='good')"
   ]
  },
  {
   "cell_type": "code",
   "execution_count": null,
   "metadata": {},
   "outputs": [],
   "source": [
    "units"
   ]
  },
  {
   "cell_type": "code",
   "execution_count": null,
   "metadata": {},
   "outputs": [],
   "source": [
    "from npyx.spk_t import trn\n",
    "u=99\n",
    "t = trn(dp, u)"
   ]
  }
 ],
 "metadata": {
  "kernelspec": {
   "display_name": "neuropx",
   "language": "python",
   "name": "python3"
  },
  "language_info": {
   "codemirror_mode": {
    "name": "ipython",
    "version": 3
   },
   "file_extension": ".py",
   "mimetype": "text/x-python",
   "name": "python",
   "nbconvert_exporter": "python",
   "pygments_lexer": "ipython3",
   "version": "3.10.16"
  }
 },
 "nbformat": 4,
 "nbformat_minor": 2
}
